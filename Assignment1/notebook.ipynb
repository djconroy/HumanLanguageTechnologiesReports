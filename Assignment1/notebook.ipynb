{
 "cells": [
  {
   "cell_type": "code",
   "execution_count": 1,
   "id": "3396fce5",
   "metadata": {},
   "outputs": [],
   "source": [
    "import nltk"
   ]
  },
  {
   "cell_type": "code",
   "execution_count": 2,
   "id": "0a81e3fd",
   "metadata": {},
   "outputs": [],
   "source": [
    "pop_song_file_names = [\n",
    "    'africa-by-toto.txt',\n",
    "    'billie-jean-by-michael-jackson.txt',\n",
    "    'eternal-flame-by-the-bangles.txt',\n",
    "    'love-is-a-battlefield-by-pat-benatar.txt',\n",
    "    'papa-dont-preach-by-madonna.txt',\n",
    "    'the-power-of-love-by-huey-lewis-and-the-news.txt',\n",
    "    'true-colors-by-cyndi-lauper.txt',\n",
    "]\n",
    "hip_hop_song_file_names = [\n",
    "    'dont-believe-the-hype-by-public-enemy.txt',\n",
    "    'fuck-tha-police-by-nwa.txt',\n",
    "    'its-tricky-by-run-dmc.txt',\n",
    "    'it-takes-two-by-rob-base-&-DJ-EZ-rock.txt',\n",
    "    'push-it-by-salt-n-pepa.txt',\n",
    "    'rappers-delight-by-the-sugarhill-gang.txt',\n",
    "    'the-symphony-by-marley-marl.txt',\n",
    "]"
   ]
  },
  {
   "cell_type": "code",
   "execution_count": 3,
   "id": "0a7139cf",
   "metadata": {},
   "outputs": [],
   "source": [
    "def get_song_lines(song_file_name):\n",
    "    with open(song_file_name, encoding='utf8') as song_file:\n",
    "        return song_file.readlines()"
   ]
  },
  {
   "cell_type": "code",
   "execution_count": 4,
   "id": "280c27c9",
   "metadata": {},
   "outputs": [],
   "source": [
    "def remove_unneeded_chars(string):\n",
    "    return ''.join([c for c in string if c.isalnum() or c == ' ' or c == '-'])"
   ]
  },
  {
   "cell_type": "code",
   "execution_count": 5,
   "id": "e01909a9",
   "metadata": {},
   "outputs": [],
   "source": [
    "def preprocess_song_lines(song_lines):\n",
    "    return [remove_unneeded_chars(song_line.strip()) for song_line in song_lines]"
   ]
  },
  {
   "cell_type": "code",
   "execution_count": 6,
   "id": "9f8f58e4",
   "metadata": {},
   "outputs": [],
   "source": [
    "def preprocess_songs(song_file_names):\n",
    "    return [preprocess_song_lines(get_song_lines(song_file_name)) for song_file_name in song_file_names]"
   ]
  },
  {
   "cell_type": "code",
   "execution_count": 7,
   "id": "d30f74d2",
   "metadata": {},
   "outputs": [],
   "source": [
    "pop_songs_lines = preprocess_songs(pop_song_file_names)\n",
    "hip_hop_songs_lines = preprocess_songs(hip_hop_song_file_names)"
   ]
  },
  {
   "cell_type": "code",
   "execution_count": 8,
   "id": "b6daf36c",
   "metadata": {},
   "outputs": [],
   "source": [
    "def get_songs(songs_lines):\n",
    "    return [' '.join(song_lines) for song_lines in songs_lines]"
   ]
  },
  {
   "cell_type": "code",
   "execution_count": 9,
   "id": "e02945b3",
   "metadata": {},
   "outputs": [],
   "source": [
    "pop_songs = get_songs(pop_songs_lines)\n",
    "hip_hop_songs = get_songs(hip_hop_songs_lines)"
   ]
  },
  {
   "cell_type": "code",
   "execution_count": 10,
   "id": "d37b0223",
   "metadata": {},
   "outputs": [],
   "source": [
    "def get_tokens(songs):\n",
    "    return list(map(nltk.word_tokenize, songs))"
   ]
  },
  {
   "cell_type": "code",
   "execution_count": 11,
   "id": "4fb920bc",
   "metadata": {},
   "outputs": [],
   "source": [
    "def lowercase(nested_lists):\n",
    "    return [[string.lower() for string in nested_list] for nested_list in nested_lists]"
   ]
  },
  {
   "cell_type": "code",
   "execution_count": 12,
   "id": "6224a2fd",
   "metadata": {},
   "outputs": [],
   "source": [
    "pop_songs_tokens = lowercase(get_tokens(pop_songs))\n",
    "hip_hop_songs_tokens = lowercase(get_tokens(hip_hop_songs))\n",
    "\n",
    "pop_songs_lines = lowercase(pop_songs_lines)\n",
    "hip_hop_songs_lines = lowercase(hip_hop_songs_lines)\n",
    "\n",
    "pop_songs = [pop_song.lower() for pop_song in pop_songs]\n",
    "hip_hop_songs = [hip_hop_song.lower() for hip_hop_song in hip_hop_songs]"
   ]
  },
  {
   "cell_type": "code",
   "execution_count": 13,
   "id": "72a57150",
   "metadata": {},
   "outputs": [],
   "source": [
    "def lexical_diversity(song_tokens):\n",
    "    return len(set(song_tokens)) / len(song_tokens)"
   ]
  },
  {
   "cell_type": "code",
   "execution_count": 14,
   "id": "a508dee5",
   "metadata": {},
   "outputs": [],
   "source": [
    "def get_lexical_diversities(songs_tokens):\n",
    "    return list(map(lexical_diversity, songs_tokens))"
   ]
  },
  {
   "cell_type": "code",
   "execution_count": 15,
   "id": "4ae9a478",
   "metadata": {},
   "outputs": [],
   "source": [
    "pop_songs_lexical_diversities = get_lexical_diversities(pop_songs_tokens)\n",
    "hip_hop_songs_lexical_diversities = get_lexical_diversities(hip_hop_songs_tokens)"
   ]
  },
  {
   "cell_type": "code",
   "execution_count": 16,
   "id": "670c8c76",
   "metadata": {},
   "outputs": [],
   "source": [
    "def get_freq_dists(songs_tokens):\n",
    "    return list(map(nltk.FreqDist, songs_tokens))"
   ]
  },
  {
   "cell_type": "code",
   "execution_count": 17,
   "id": "b799df93",
   "metadata": {},
   "outputs": [],
   "source": [
    "pop_songs_word_freq_dists = get_freq_dists(pop_songs_tokens)\n",
    "hip_hop_songs_word_freq_dists = get_freq_dists(hip_hop_songs_tokens)"
   ]
  },
  {
   "cell_type": "code",
   "execution_count": 18,
   "id": "56444f90",
   "metadata": {},
   "outputs": [],
   "source": [
    "from nltk.corpus import stopwords"
   ]
  },
  {
   "cell_type": "code",
   "execution_count": 19,
   "id": "79ebfea6",
   "metadata": {},
   "outputs": [],
   "source": [
    "def get_filtered_tokens(songs_tokens):\n",
    "    return [[token for token in song_tokens if token not in stopwords.words('english')]",
    "            for song_tokens in songs_tokens]"
   ]
  },
  {
   "cell_type": "code",
   "execution_count": 20,
   "id": "81d7f9f3",
   "metadata": {},
   "outputs": [],
   "source": [
    "filtered_pop_songs_tokens = get_filtered_tokens(pop_songs_tokens)\n",
    "filtered_hip_hop_songs_tokens = get_filtered_tokens(hip_hop_songs_tokens)\n",
    "\n",
    "filtered_pop_songs_word_freq_dists = get_freq_dists(filtered_pop_songs_tokens)\n",
    "filtered_hip_hop_songs_word_freq_dists = get_freq_dists(filtered_hip_hop_songs_tokens)"
   ]
  },
  {
   "cell_type": "code",
   "execution_count": 21,
   "id": "ac1c14db",
   "metadata": {},
   "outputs": [],
   "source": [
    "def preprocess_song_lines_for_stemming(song_lines):\n",
    "    return [song_line.strip() for song_line in song_lines]"
   ]
  },
  {
   "cell_type": "code",
   "execution_count": 22,
   "id": "85f801f2",
   "metadata": {},
   "outputs": [],
   "source": [
    "def preprocess_songs_for_stemming(song_file_names):\n",
    "    return [preprocess_song_lines_for_stemming(get_song_lines(song_file_name))",
    "            for song_file_name in song_file_names]"
   ]
  },
  {
   "cell_type": "code",
   "execution_count": 23,
   "id": "f7d60a95",
   "metadata": {},
   "outputs": [],
   "source": [
    "pop_songs_for_stemming = get_songs(preprocess_songs_for_stemming(pop_song_file_names))\n",
    "hip_hop_songs_for_stemming = get_songs(preprocess_songs_for_stemming(hip_hop_song_file_names))\n",
    "\n",
    "pop_songs_tokens_for_stemming = get_tokens(pop_songs_for_stemming)\n",
    "hip_hop_songs_tokens_for_stemming = get_tokens(hip_hop_songs_for_stemming)"
   ]
  },
  {
   "cell_type": "code",
   "execution_count": 24,
   "id": "2d2e1765",
   "metadata": {},
   "outputs": [],
   "source": [
    "def remove_unneeded_chars_for_stemming(song_tokens):\n",
    "    return [''.join([c for c in song_token if c.isalnum() or c == '-'])",
    "            for song_token in song_tokens]"
   ]
  },
  {
   "cell_type": "code",
   "execution_count": 25,
   "id": "b8b5403b",
   "metadata": {},
   "outputs": [],
   "source": [
    "def preprocess_song_tokens_for_stemming(song_tokens):\n",
    "    return [song_token.lower() for song_token in remove_unneeded_chars_for_stemming(song_tokens) if len(song_token) > 0]"
   ]
  },
  {
   "cell_type": "code",
   "execution_count": 26,
   "id": "aa77bde2",
   "metadata": {},
   "outputs": [],
   "source": [
    "def preprocess_songs_tokens_for_stemming(songs_tokens):\n",
    "    return list(map(preprocess_song_tokens_for_stemming, songs_tokens))"
   ]
  },
  {
   "cell_type": "code",
   "execution_count": 27,
   "id": "480fc013",
   "metadata": {},
   "outputs": [],
   "source": [
    "preprocessed_pop_songs_tokens_for_stemming = preprocess_songs_tokens_for_stemming(pop_songs_tokens_for_stemming)\n",
    "preprocessed_hip_hop_songs_tokens_for_stemming = preprocess_songs_tokens_for_stemming(hip_hop_songs_tokens_for_stemming)\n",
    "\n",
    "filtered_pop_songs_tokens_for_stemming = get_filtered_tokens(preprocessed_pop_songs_tokens_for_stemming)\n",
    "filtered_hip_hop_songs_tokens_for_stemming = get_filtered_tokens(preprocessed_hip_hop_songs_tokens_for_stemming)"
   ]
  },
  {
   "cell_type": "code",
   "execution_count": 28,
   "id": "f85fb560",
   "metadata": {},
   "outputs": [],
   "source": [
    "lancaster = nltk.LancasterStemmer()\n",
    "porter = nltk.PorterStemmer()"
   ]
  },
  {
   "cell_type": "code",
   "execution_count": 29,
   "id": "29007511",
   "metadata": {},
   "outputs": [],
   "source": [
    "def get_stemmed_tokens(songs_tokens, stemmer):\n",
    "    return [[stemmer.stem(token) for token in song_tokens]",
    "            for song_tokens in songs_tokens]"
   ]
  },
  {
   "cell_type": "code",
   "execution_count": 30,
   "id": "35b22b7f",
   "metadata": {},
   "outputs": [],
   "source": [
    "pop_songs_lancaster_stems = get_stemmed_tokens(filtered_pop_songs_tokens_for_stemming, lancaster)\n",
    "hip_hop_songs_lancaster_stems = get_stemmed_tokens(filtered_hip_hop_songs_tokens_for_stemming, lancaster)\n",
    "\n",
    "pop_songs_porter_stems = get_stemmed_tokens(filtered_pop_songs_tokens_for_stemming, porter)\n",
    "hip_hop_songs_porter_stems = get_stemmed_tokens(filtered_hip_hop_songs_tokens_for_stemming, porter)\n",
    "\n",
    "pop_songs_lancaster_stems_freq_dists = get_freq_dists(pop_songs_lancaster_stems)\n",
    "hip_hop_songs_lancaster_stems_freq_dists = get_freq_dists(hip_hop_songs_lancaster_stems)\n",
    "\n",
    "pop_songs_porter_stems_freq_dists = get_freq_dists(pop_songs_porter_stems)\n",
    "hip_hop_songs_porter_stems_freq_dists = get_freq_dists(hip_hop_songs_porter_stems)"
   ]
  },
  {
   "cell_type": "code",
   "execution_count": 31,
   "id": "245df4f1",
   "metadata": {},
   "outputs": [],
   "source": [
    "N = 2\n",
    "def adj_lines_rhyme(song_lines, first):\n",
    "    return (len(song_lines[first]) >= N\n",
    "            and len(song_lines[first + 1]) >= N\n",
    "            and song_lines[first][-N:].isalnum()\n",
    "            and song_lines[first][-N:] == song_lines[first + 1][-N:]\n",
    "            and song_lines[first][song_lines[first].rfind(' ') + 1:]\n",
    "                != song_lines[first + 1][song_lines[first + 1].rfind(' ') + 1:])"
   ]
  },
  {
   "cell_type": "code",
   "execution_count": 32,
   "id": "1a424134",
   "metadata": {},
   "outputs": [],
   "source": [
    "def num_rhyming_lines_in_song(song_lines):\n",
    "    count = 0\n",
    "    for i in range(len(song_lines) - 1):\n",
    "        if adj_lines_rhyme(song_lines, i):\n",
    "            count += 1\n",
    "    return count"
   ]
  },
  {
   "cell_type": "code",
   "execution_count": 33,
   "id": "9c3b9c3a",
   "metadata": {},
   "outputs": [],
   "source": [
    "def num_rhyming_lines_in_songs(songs_lines):\n",
    "    return list(map(num_rhyming_lines_in_song, songs_lines))"
   ]
  },
  {
   "cell_type": "code",
   "execution_count": 34,
   "id": "8cfe258b",
   "metadata": {},
   "outputs": [],
   "source": [
    "num_rhyming_lines_in_pop_songs = num_rhyming_lines_in_songs(pop_songs_lines)\n",
    "num_rhyming_lines_in_hip_hop_songs = num_rhyming_lines_in_songs(hip_hop_songs_lines)"
   ]
  },
  {
   "cell_type": "code",
   "execution_count": 35,
   "id": "e262b108",
   "metadata": {},
   "outputs": [],
   "source": [
    "from statistics import mean"
   ]
  },
  {
   "cell_type": "code",
   "execution_count": 36,
   "id": "bebe8b2a",
   "metadata": {},
   "outputs": [
    {
     "name": "stdout",
     "output_type": "stream",
     "text": [
      "Number of Rhyming Lines in Pop Songs:\n",
      "[0, 3, 6, 9, 8, 8, 0]\n"
     ]
    }
   ],
   "source": [
    "print('Number of Rhyming Lines in Pop Songs:')\n",
    "print(num_rhyming_lines_in_pop_songs)"
   ]
  },
  {
   "cell_type": "code",
   "execution_count": 37,
   "id": "aa4a9891",
   "metadata": {},
   "outputs": [
    {
     "name": "stdout",
     "output_type": "stream",
     "text": [
      "Average Number of Rhyming Lines in Pop Songs:\n",
      "5\n"
     ]
    }
   ],
   "source": [
    "print('Average Number of Rhyming Lines in Pop Songs:')\n",
    "print(round(mean(num_rhyming_lines_in_pop_songs)))"
   ]
  },
  {
   "cell_type": "code",
   "execution_count": 38,
   "id": "5672f9dc",
   "metadata": {},
   "outputs": [
    {
     "name": "stdout",
     "output_type": "stream",
     "text": [
      "Number of Rhyming Lines in Hip Hop Songs:\n",
      "[15, 19, 8, 18, 1, 45, 19]\n"
     ]
    }
   ],
   "source": [
    "print('Number of Rhyming Lines in Hip Hop Songs:')\n",
    "print(num_rhyming_lines_in_hip_hop_songs)"
   ]
  },
  {
   "cell_type": "code",
   "execution_count": 39,
   "id": "10281899",
   "metadata": {},
   "outputs": [
    {
     "name": "stdout",
     "output_type": "stream",
     "text": [
      "Average Number of Rhyming Lines in Hip Hop Songs:\n",
      "18\n"
     ]
    }
   ],
   "source": [
    "print('Average Number of Rhyming Lines in Hip Hop Songs:')\n",
    "print(round(mean(num_rhyming_lines_in_hip_hop_songs)))"
   ]
  },
  {
   "cell_type": "code",
   "execution_count": 116,
   "id": "fa598e27",
   "metadata": {},
   "outputs": [
    {
     "name": "stdout",
     "output_type": "stream",
     "text": [
      "True Colors by Cyndi Lauper:\n",
      "['you with the sad eyes', 'dont be discouraged', 'oh i realize', 'its hard to take courage', 'in a world full of people', 'you can lose sight of it all', 'and the darkness inside you', 'can make you feel so small', 'but i see your true colors', 'shining through', 'i see your true colors', 'and thats why i love you', 'so dont be afraid to let them show', 'your true colors', 'true colors are beautiful', 'like a rainbow', 'show me a smile then', 'dont be unhappy cant remember', 'when i last saw you laughing', 'if this world makes you crazy', 'and youve taken all you can bear', 'you call me up', 'because you know ill be there', 'and ill see your true colors', 'shining through', 'i see your true colors', 'and thats why i love you', 'so dont be afraid to let it show', 'your true colors', 'true colors are beautiful', 'like a rainbow', 'if this world makes you crazy', 'and youve taken all you can bear', 'you call me up', 'because you know ill be there', 'and ill see your true colors', 'shining through', 'i see your true colors', 'and thats why i love you', 'so dont be afraid to let it show', 'your true colors', 'true colors', 'true colors', 'shining through', 'i see your true colors', 'and thats why i love you', 'so dont be afraid to let them show', 'your true colors', 'true colors are beautiful', 'like a rainbow']\n"
     ]
    }
   ],
   "source": [
    "print(\"True Colors by Cyndi Lauper:\")\n",
    "print(pop_songs_lines[6])"
   ]
  },
  {
   "cell_type": "code",
   "execution_count": 41,
   "id": "b47ed470",
   "metadata": {},
   "outputs": [
    {
     "name": "stdout",
     "output_type": "stream",
     "text": [
      "you with the sad eyes dont be discouraged oh i realize its hard to take courage in a world full of people you can lose sight of it all and the darkness inside you can make you feel so small but i see your true colors shining through i see your true colors and thats why i love you so dont be afraid to let them show your true colors true colors are beautiful like a rainbow show me a smile then dont be unhappy cant remember when i last saw you laughing if this world makes you crazy and youve taken all you can bear you call me up because you know ill be there and ill see your true colors shining through i see your true colors and thats why i love you so dont be afraid to let it show your true colors true colors are beautiful like a rainbow if this world makes you crazy and youve taken all you can bear you call me up because you know ill be there and ill see your true colors shining through i see your true colors and thats why i love you so dont be afraid to let it show your true colors true colors true colors shining through i see your true colors and thats why i love you so dont be afraid to let them show your true colors true colors are beautiful like a rainbow\n"
     ]
    }
   ],
   "source": [
    "print(pop_songs[6])"
   ]
  },
  {
   "cell_type": "code",
   "execution_count": 42,
   "id": "4dc83be9",
   "metadata": {},
   "outputs": [
    {
     "name": "stdout",
     "output_type": "stream",
     "text": [
      "['you', 'with', 'the', 'sad', 'eyes', 'dont', 'be', 'discouraged', 'oh', 'i', 'realize', 'its', 'hard', 'to', 'take', 'courage', 'in', 'a', 'world', 'full', 'of', 'people', 'you', 'can', 'lose', 'sight', 'of', 'it', 'all', 'and', 'the', 'darkness', 'inside', 'you', 'can', 'make', 'you', 'feel', 'so', 'small', 'but', 'i', 'see', 'your', 'true', 'colors', 'shining', 'through', 'i', 'see', 'your', 'true', 'colors', 'and', 'thats', 'why', 'i', 'love', 'you', 'so', 'dont', 'be', 'afraid', 'to', 'let', 'them', 'show', 'your', 'true', 'colors', 'true', 'colors', 'are', 'beautiful', 'like', 'a', 'rainbow', 'show', 'me', 'a', 'smile', 'then', 'dont', 'be', 'unhappy', 'cant', 'remember', 'when', 'i', 'last', 'saw', 'you', 'laughing', 'if', 'this', 'world', 'makes', 'you', 'crazy', 'and', 'youve', 'taken', 'all', 'you', 'can', 'bear', 'you', 'call', 'me', 'up', 'because', 'you', 'know', 'ill', 'be', 'there', 'and', 'ill', 'see', 'your', 'true', 'colors', 'shining', 'through', 'i', 'see', 'your', 'true', 'colors', 'and', 'thats', 'why', 'i', 'love', 'you', 'so', 'dont', 'be', 'afraid', 'to', 'let', 'it', 'show', 'your', 'true', 'colors', 'true', 'colors', 'are', 'beautiful', 'like', 'a', 'rainbow', 'if', 'this', 'world', 'makes', 'you', 'crazy', 'and', 'youve', 'taken', 'all', 'you', 'can', 'bear', 'you', 'call', 'me', 'up', 'because', 'you', 'know', 'ill', 'be', 'there', 'and', 'ill', 'see', 'your', 'true', 'colors', 'shining', 'through', 'i', 'see', 'your', 'true', 'colors', 'and', 'thats', 'why', 'i', 'love', 'you', 'so', 'dont', 'be', 'afraid', 'to', 'let', 'it', 'show', 'your', 'true', 'colors', 'true', 'colors', 'true', 'colors', 'shining', 'through', 'i', 'see', 'your', 'true', 'colors', 'and', 'thats', 'why', 'i', 'love', 'you', 'so', 'dont', 'be', 'afraid', 'to', 'let', 'them', 'show', 'your', 'true', 'colors', 'true', 'colors', 'are', 'beautiful', 'like', 'a', 'rainbow']\n"
     ]
    }
   ],
   "source": [
    "print(pop_songs_tokens[6])"
   ]
  },
  {
   "cell_type": "code",
   "execution_count": 43,
   "id": "b3e3bbe4",
   "metadata": {},
   "outputs": [
    {
     "name": "stdout",
     "output_type": "stream",
     "text": [
      "['sad', 'eyes', 'dont', 'discouraged', 'oh', 'realize', 'hard', 'take', 'courage', 'world', 'full', 'people', 'lose', 'sight', 'darkness', 'inside', 'make', 'feel', 'small', 'see', 'true', 'colors', 'shining', 'see', 'true', 'colors', 'thats', 'love', 'dont', 'afraid', 'let', 'show', 'true', 'colors', 'true', 'colors', 'beautiful', 'like', 'rainbow', 'show', 'smile', 'dont', 'unhappy', 'cant', 'remember', 'last', 'saw', 'laughing', 'world', 'makes', 'crazy', 'youve', 'taken', 'bear', 'call', 'know', 'ill', 'ill', 'see', 'true', 'colors', 'shining', 'see', 'true', 'colors', 'thats', 'love', 'dont', 'afraid', 'let', 'show', 'true', 'colors', 'true', 'colors', 'beautiful', 'like', 'rainbow', 'world', 'makes', 'crazy', 'youve', 'taken', 'bear', 'call', 'know', 'ill', 'ill', 'see', 'true', 'colors', 'shining', 'see', 'true', 'colors', 'thats', 'love', 'dont', 'afraid', 'let', 'show', 'true', 'colors', 'true', 'colors', 'true', 'colors', 'shining', 'see', 'true', 'colors', 'thats', 'love', 'dont', 'afraid', 'let', 'show', 'true', 'colors', 'true', 'colors', 'beautiful', 'like', 'rainbow']\n"
     ]
    }
   ],
   "source": [
    "print(filtered_pop_songs_tokens[6])"
   ]
  },
  {
   "cell_type": "code",
   "execution_count": 119,
   "id": "1232ec3e",
   "metadata": {},
   "outputs": [
    {
     "name": "stdout",
     "output_type": "stream",
     "text": [
      "It's Tricky by Run-DMC:\n",
      "['this speech is my recital i think its very vital', 'to rock a rhyme thats right on time', 'its tricky is the title here we go', 'its tricky to rock a rhyme to rock a rhyme thats right on time', 'its tricky its tricky tricky tricky tricky', 'its tricky to rock a rhyme to rock a rhyme thats right on time', 'its tricky tr-tr-tr-tricky tricky trrrrrrrrrrricky', 'i met this little girlie her hair was kinda curly', 'went to her house and bust her out i had to leave real early', 'these girls are really sleazy all they just say is please me', 'or spend some time and rock a rhyme i said its not that easy', 'its tricky to rock a rhyme to rock a rhyme thats right on time', 'its tricky how is it d its tricky tricky tricky trrrrrricky', 'its tricky to rock a rhyme to rock a rhyme thats right on time', 'its tricky tricky tricky tricky', 'in new york the people talk and try to make us rhyme', 'they really hawk but we just walk because we have no time', 'and in the city its a pity cos we just cant hide', 'tinted windows dont mean nothin they know whos inside', 'its tricky to rock a rhyme to rock a rhyme thats right on time', 'its tricky how is it d tricky tricky tricky tricky', 'its tricky to rock a rhyme to rock a rhyme thats right on time', 'its tricky tricky tricky tricky tricky huh', 'when i wake up people take up mostly all of my time', 'im not singin phone keep ringin cos i make up a rhyme', 'im not braggin people naggin cos they think im a star', 'always tearin what im wearin i think theyre goin too far', 'a girl named carol follows daryll every gig we play', 'then d dissed her and dismissed her now shes jockin jay', 'i aint lyin girls be cryin cos im on tv', 'they even bother my poor father cos hes down with me', 'its tricky to rock a rhyme to rock a rhyme thats right on time', 'its tricky how is it tricky tricky tricky tricky', 'its tricky to rock a rhyme to rock a rhyme thats right on time', 'its tricky tr-tr-tr-tr-tr-tricky tr-tr-tr-tricky tr-tr-tr', 'we are not thugs we dont use drugs but you assume on your own', 'they offer coke and lots of dope but we just leave it alone', 'its like that yall yall but we dont quit', 'you keep on rock shock cos this is it']\n"
     ]
    }
   ],
   "source": [
    "print(\"It's Tricky by Run-DMC:\")\n",
    "print(hip_hop_songs_lines[2])"
   ]
  },
  {
   "cell_type": "code",
   "execution_count": 45,
   "id": "29d34fc6",
   "metadata": {},
   "outputs": [
    {
     "name": "stdout",
     "output_type": "stream",
     "text": [
      "this speech is my recital i think its very vital to rock a rhyme thats right on time its tricky is the title here we go its tricky to rock a rhyme to rock a rhyme thats right on time its tricky its tricky tricky tricky tricky its tricky to rock a rhyme to rock a rhyme thats right on time its tricky tr-tr-tr-tricky tricky trrrrrrrrrrricky i met this little girlie her hair was kinda curly went to her house and bust her out i had to leave real early these girls are really sleazy all they just say is please me or spend some time and rock a rhyme i said its not that easy its tricky to rock a rhyme to rock a rhyme thats right on time its tricky how is it d its tricky tricky tricky trrrrrricky its tricky to rock a rhyme to rock a rhyme thats right on time its tricky tricky tricky tricky in new york the people talk and try to make us rhyme they really hawk but we just walk because we have no time and in the city its a pity cos we just cant hide tinted windows dont mean nothin they know whos inside its tricky to rock a rhyme to rock a rhyme thats right on time its tricky how is it d tricky tricky tricky tricky its tricky to rock a rhyme to rock a rhyme thats right on time its tricky tricky tricky tricky tricky huh when i wake up people take up mostly all of my time im not singin phone keep ringin cos i make up a rhyme im not braggin people naggin cos they think im a star always tearin what im wearin i think theyre goin too far a girl named carol follows daryll every gig we play then d dissed her and dismissed her now shes jockin jay i aint lyin girls be cryin cos im on tv they even bother my poor father cos hes down with me its tricky to rock a rhyme to rock a rhyme thats right on time its tricky how is it tricky tricky tricky tricky its tricky to rock a rhyme to rock a rhyme thats right on time its tricky tr-tr-tr-tr-tr-tricky tr-tr-tr-tricky tr-tr-tr we are not thugs we dont use drugs but you assume on your own they offer coke and lots of dope but we just leave it alone its like that yall yall but we dont quit you keep on rock shock cos this is it\n"
     ]
    }
   ],
   "source": [
    "print(hip_hop_songs[2])"
   ]
  },
  {
   "cell_type": "code",
   "execution_count": 46,
   "id": "24839fb3",
   "metadata": {},
   "outputs": [
    {
     "name": "stdout",
     "output_type": "stream",
     "text": [
      "['this', 'speech', 'is', 'my', 'recital', 'i', 'think', 'its', 'very', 'vital', 'to', 'rock', 'a', 'rhyme', 'thats', 'right', 'on', 'time', 'its', 'tricky', 'is', 'the', 'title', 'here', 'we', 'go', 'its', 'tricky', 'to', 'rock', 'a', 'rhyme', 'to', 'rock', 'a', 'rhyme', 'thats', 'right', 'on', 'time', 'its', 'tricky', 'its', 'tricky', 'tricky', 'tricky', 'tricky', 'its', 'tricky', 'to', 'rock', 'a', 'rhyme', 'to', 'rock', 'a', 'rhyme', 'thats', 'right', 'on', 'time', 'its', 'tricky', 'tr-tr-tr-tricky', 'tricky', 'trrrrrrrrrrricky', 'i', 'met', 'this', 'little', 'girlie', 'her', 'hair', 'was', 'kinda', 'curly', 'went', 'to', 'her', 'house', 'and', 'bust', 'her', 'out', 'i', 'had', 'to', 'leave', 'real', 'early', 'these', 'girls', 'are', 'really', 'sleazy', 'all', 'they', 'just', 'say', 'is', 'please', 'me', 'or', 'spend', 'some', 'time', 'and', 'rock', 'a', 'rhyme', 'i', 'said', 'its', 'not', 'that', 'easy', 'its', 'tricky', 'to', 'rock', 'a', 'rhyme', 'to', 'rock', 'a', 'rhyme', 'thats', 'right', 'on', 'time', 'its', 'tricky', 'how', 'is', 'it', 'd', 'its', 'tricky', 'tricky', 'tricky', 'trrrrrricky', 'its', 'tricky', 'to', 'rock', 'a', 'rhyme', 'to', 'rock', 'a', 'rhyme', 'thats', 'right', 'on', 'time', 'its', 'tricky', 'tricky', 'tricky', 'tricky', 'in', 'new', 'york', 'the', 'people', 'talk', 'and', 'try', 'to', 'make', 'us', 'rhyme', 'they', 'really', 'hawk', 'but', 'we', 'just', 'walk', 'because', 'we', 'have', 'no', 'time', 'and', 'in', 'the', 'city', 'its', 'a', 'pity', 'cos', 'we', 'just', 'cant', 'hide', 'tinted', 'windows', 'dont', 'mean', 'nothin', 'they', 'know', 'whos', 'inside', 'its', 'tricky', 'to', 'rock', 'a', 'rhyme', 'to', 'rock', 'a', 'rhyme', 'thats', 'right', 'on', 'time', 'its', 'tricky', 'how', 'is', 'it', 'd', 'tricky', 'tricky', 'tricky', 'tricky', 'its', 'tricky', 'to', 'rock', 'a', 'rhyme', 'to', 'rock', 'a', 'rhyme', 'thats', 'right', 'on', 'time', 'its', 'tricky', 'tricky', 'tricky', 'tricky', 'tricky', 'huh', 'when', 'i', 'wake', 'up', 'people', 'take', 'up', 'mostly', 'all', 'of', 'my', 'time', 'im', 'not', 'singin', 'phone', 'keep', 'ringin', 'cos', 'i', 'make', 'up', 'a', 'rhyme', 'im', 'not', 'braggin', 'people', 'naggin', 'cos', 'they', 'think', 'im', 'a', 'star', 'always', 'tearin', 'what', 'im', 'wearin', 'i', 'think', 'theyre', 'goin', 'too', 'far', 'a', 'girl', 'named', 'carol', 'follows', 'daryll', 'every', 'gig', 'we', 'play', 'then', 'd', 'dissed', 'her', 'and', 'dismissed', 'her', 'now', 'shes', 'jockin', 'jay', 'i', 'aint', 'lyin', 'girls', 'be', 'cryin', 'cos', 'im', 'on', 'tv', 'they', 'even', 'bother', 'my', 'poor', 'father', 'cos', 'hes', 'down', 'with', 'me', 'its', 'tricky', 'to', 'rock', 'a', 'rhyme', 'to', 'rock', 'a', 'rhyme', 'thats', 'right', 'on', 'time', 'its', 'tricky', 'how', 'is', 'it', 'tricky', 'tricky', 'tricky', 'tricky', 'its', 'tricky', 'to', 'rock', 'a', 'rhyme', 'to', 'rock', 'a', 'rhyme', 'thats', 'right', 'on', 'time', 'its', 'tricky', 'tr-tr-tr-tr-tr-tricky', 'tr-tr-tr-tricky', 'tr-tr-tr', 'we', 'are', 'not', 'thugs', 'we', 'dont', 'use', 'drugs', 'but', 'you', 'assume', 'on', 'your', 'own', 'they', 'offer', 'coke', 'and', 'lots', 'of', 'dope', 'but', 'we', 'just', 'leave', 'it', 'alone', 'its', 'like', 'that', 'yall', 'yall', 'but', 'we', 'dont', 'quit', 'you', 'keep', 'on', 'rock', 'shock', 'cos', 'this', 'is', 'it']\n"
     ]
    }
   ],
   "source": [
    "print(hip_hop_songs_tokens[2])"
   ]
  },
  {
   "cell_type": "code",
   "execution_count": 47,
   "id": "4da193f1",
   "metadata": {},
   "outputs": [
    {
     "name": "stdout",
     "output_type": "stream",
     "text": [
      "['speech', 'recital', 'think', 'vital', 'rock', 'rhyme', 'thats', 'right', 'time', 'tricky', 'title', 'go', 'tricky', 'rock', 'rhyme', 'rock', 'rhyme', 'thats', 'right', 'time', 'tricky', 'tricky', 'tricky', 'tricky', 'tricky', 'tricky', 'rock', 'rhyme', 'rock', 'rhyme', 'thats', 'right', 'time', 'tricky', 'tr-tr-tr-tricky', 'tricky', 'trrrrrrrrrrricky', 'met', 'little', 'girlie', 'hair', 'kinda', 'curly', 'went', 'house', 'bust', 'leave', 'real', 'early', 'girls', 'really', 'sleazy', 'say', 'please', 'spend', 'time', 'rock', 'rhyme', 'said', 'easy', 'tricky', 'rock', 'rhyme', 'rock', 'rhyme', 'thats', 'right', 'time', 'tricky', 'tricky', 'tricky', 'tricky', 'trrrrrricky', 'tricky', 'rock', 'rhyme', 'rock', 'rhyme', 'thats', 'right', 'time', 'tricky', 'tricky', 'tricky', 'tricky', 'new', 'york', 'people', 'talk', 'try', 'make', 'us', 'rhyme', 'really', 'hawk', 'walk', 'time', 'city', 'pity', 'cos', 'cant', 'hide', 'tinted', 'windows', 'dont', 'mean', 'nothin', 'know', 'whos', 'inside', 'tricky', 'rock', 'rhyme', 'rock', 'rhyme', 'thats', 'right', 'time', 'tricky', 'tricky', 'tricky', 'tricky', 'tricky', 'tricky', 'rock', 'rhyme', 'rock', 'rhyme', 'thats', 'right', 'time', 'tricky', 'tricky', 'tricky', 'tricky', 'tricky', 'huh', 'wake', 'people', 'take', 'mostly', 'time', 'im', 'singin', 'phone', 'keep', 'ringin', 'cos', 'make', 'rhyme', 'im', 'braggin', 'people', 'naggin', 'cos', 'think', 'im', 'star', 'always', 'tearin', 'im', 'wearin', 'think', 'theyre', 'goin', 'far', 'girl', 'named', 'carol', 'follows', 'daryll', 'every', 'gig', 'play', 'dissed', 'dismissed', 'shes', 'jockin', 'jay', 'aint', 'lyin', 'girls', 'cryin', 'cos', 'im', 'tv', 'even', 'bother', 'poor', 'father', 'cos', 'hes', 'tricky', 'rock', 'rhyme', 'rock', 'rhyme', 'thats', 'right', 'time', 'tricky', 'tricky', 'tricky', 'tricky', 'tricky', 'tricky', 'rock', 'rhyme', 'rock', 'rhyme', 'thats', 'right', 'time', 'tricky', 'tr-tr-tr-tr-tr-tricky', 'tr-tr-tr-tricky', 'tr-tr-tr', 'thugs', 'dont', 'use', 'drugs', 'assume', 'offer', 'coke', 'lots', 'dope', 'leave', 'alone', 'like', 'yall', 'yall', 'dont', 'quit', 'keep', 'rock', 'shock', 'cos']\n"
     ]
    }
   ],
   "source": [
    "print(filtered_hip_hop_songs_tokens[2])"
   ]
  },
  {
   "cell_type": "code",
   "execution_count": 48,
   "id": "db1437b1",
   "metadata": {},
   "outputs": [
    {
     "name": "stdout",
     "output_type": "stream",
     "text": [
      "This speech is my recital, I think it's very vital To rock (a rhyme), that's right (on time) It's Tricky is the title, here we go... It's Tricky to rock a rhyme, to rock a rhyme that's right on time It's Tricky... it's Tricky (Tricky) Tricky (Tricky) It's Tricky to rock a rhyme, to rock a rhyme that's right on time It's Tricky... Tr-tr-tr-tricky (Tricky) Trrrrrrrrrrricky I met this little girlie, her hair was kinda curly Went to her house and bust her out, I had to leave real early These girls are really sleazy, all they just say is please me Or spend some time and rock a rhyme, I said \"It's not that easy\" It's Tricky to rock a rhyme, to rock a rhyme that's right on time It's Tricky... (How is it D?) It's Tricky (Tricky) Tricky (Trrrrrricky) It's Tricky to rock a rhyme, to rock a rhyme that's right on time It's Tricky... Tricky (Tricky) Tricky In New York the people talk and try to make us rhyme They really (hawk) but we just (walk) because we have no time And in the city it's a pity cos we just can't hide Tinted windows don't mean nothin', they know who's inside It's Tricky to rock a rhyme, to rock a rhyme that's right on time It's Tricky... (How is it D?) Tricky (Tricky) Tricky (Tricky) It's Tricky to rock a rhyme, to rock a rhyme that's right on time It's Tricky... Tricky (Tricky) Tricky (Tricky) huh! When I wake up people take up mostly all of my time I'm not singin', phone keep ringin' cos I make up a rhyme I'm not braggin', people naggin' cos they think I'm a star Always tearin' what I'm wearin', I think they're goin' too far A girl named Carol follows Daryll every gig we play Then D dissed her and dismissed her, now she's jockin' Jay I ain't lyin', girls be cryin' cos I'm on TV They even bother my poor father cos he's down with me It's Tricky to rock a rhyme, to rock a rhyme that's right on time It's Tricky... (How is it?) Tricky (Tricky) Tricky (Tricky) It's Tricky to rock a rhyme, to rock a rhyme that's right on time It's Tricky... Tr-tr-tr-tr-tr-tricky (Tr-Tr-Tr-Tricky) Tr-tr-tr... We are not thugs (we don't use drugs) but you assume (on your own) They offer coke (and lots of dope) but we just leave it alone It's like that y'all (y'all), but we don't quit You keep on (rock!) shock! Cos this is it...\n"
     ]
    }
   ],
   "source": [
    "print(hip_hop_songs_for_stemming[2])"
   ]
  },
  {
   "cell_type": "code",
   "execution_count": 49,
   "id": "de17a148",
   "metadata": {},
   "outputs": [
    {
     "name": "stdout",
     "output_type": "stream",
     "text": [
      "['This', 'speech', 'is', 'my', 'recital', ',', 'I', 'think', 'it', \"'s\", 'very', 'vital', 'To', 'rock', '(', 'a', 'rhyme', ')', ',', 'that', \"'s\", 'right', '(', 'on', 'time', ')', 'It', \"'s\", 'Tricky', 'is', 'the', 'title', ',', 'here', 'we', 'go', '...', 'It', \"'s\", 'Tricky', 'to', 'rock', 'a', 'rhyme', ',', 'to', 'rock', 'a', 'rhyme', 'that', \"'s\", 'right', 'on', 'time', 'It', \"'s\", 'Tricky', '...', 'it', \"'s\", 'Tricky', '(', 'Tricky', ')', 'Tricky', '(', 'Tricky', ')', 'It', \"'s\", 'Tricky', 'to', 'rock', 'a', 'rhyme', ',', 'to', 'rock', 'a', 'rhyme', 'that', \"'s\", 'right', 'on', 'time', 'It', \"'s\", 'Tricky', '...', 'Tr-tr-tr-tricky', '(', 'Tricky', ')', 'Trrrrrrrrrrricky', 'I', 'met', 'this', 'little', 'girlie', ',', 'her', 'hair', 'was', 'kinda', 'curly', 'Went', 'to', 'her', 'house', 'and', 'bust', 'her', 'out', ',', 'I', 'had', 'to', 'leave', 'real', 'early', 'These', 'girls', 'are', 'really', 'sleazy', ',', 'all', 'they', 'just', 'say', 'is', 'please', 'me', 'Or', 'spend', 'some', 'time', 'and', 'rock', 'a', 'rhyme', ',', 'I', 'said', '``', 'It', \"'s\", 'not', 'that', 'easy', \"''\", 'It', \"'s\", 'Tricky', 'to', 'rock', 'a', 'rhyme', ',', 'to', 'rock', 'a', 'rhyme', 'that', \"'s\", 'right', 'on', 'time', 'It', \"'s\", 'Tricky', '...', '(', 'How', 'is', 'it', 'D', '?', ')', 'It', \"'s\", 'Tricky', '(', 'Tricky', ')', 'Tricky', '(', 'Trrrrrricky', ')', 'It', \"'s\", 'Tricky', 'to', 'rock', 'a', 'rhyme', ',', 'to', 'rock', 'a', 'rhyme', 'that', \"'s\", 'right', 'on', 'time', 'It', \"'s\", 'Tricky', '...', 'Tricky', '(', 'Tricky', ')', 'Tricky', 'In', 'New', 'York', 'the', 'people', 'talk', 'and', 'try', 'to', 'make', 'us', 'rhyme', 'They', 'really', '(', 'hawk', ')', 'but', 'we', 'just', '(', 'walk', ')', 'because', 'we', 'have', 'no', 'time', 'And', 'in', 'the', 'city', 'it', \"'s\", 'a', 'pity', 'cos', 'we', 'just', 'ca', \"n't\", 'hide', 'Tinted', 'windows', 'do', \"n't\", 'mean', 'nothin', \"'\", ',', 'they', 'know', 'who', \"'s\", 'inside', 'It', \"'s\", 'Tricky', 'to', 'rock', 'a', 'rhyme', ',', 'to', 'rock', 'a', 'rhyme', 'that', \"'s\", 'right', 'on', 'time', 'It', \"'s\", 'Tricky', '...', '(', 'How', 'is', 'it', 'D', '?', ')', 'Tricky', '(', 'Tricky', ')', 'Tricky', '(', 'Tricky', ')', 'It', \"'s\", 'Tricky', 'to', 'rock', 'a', 'rhyme', ',', 'to', 'rock', 'a', 'rhyme', 'that', \"'s\", 'right', 'on', 'time', 'It', \"'s\", 'Tricky', '...', 'Tricky', '(', 'Tricky', ')', 'Tricky', '(', 'Tricky', ')', 'huh', '!', 'When', 'I', 'wake', 'up', 'people', 'take', 'up', 'mostly', 'all', 'of', 'my', 'time', 'I', \"'m\", 'not', 'singin', \"'\", ',', 'phone', 'keep', 'ringin', \"'\", 'cos', 'I', 'make', 'up', 'a', 'rhyme', 'I', \"'m\", 'not', 'braggin', \"'\", ',', 'people', 'naggin', \"'\", 'cos', 'they', 'think', 'I', \"'m\", 'a', 'star', 'Always', 'tearin', \"'\", 'what', 'I', \"'m\", 'wearin', \"'\", ',', 'I', 'think', 'they', \"'re\", 'goin', \"'\", 'too', 'far', 'A', 'girl', 'named', 'Carol', 'follows', 'Daryll', 'every', 'gig', 'we', 'play', 'Then', 'D', 'dissed', 'her', 'and', 'dismissed', 'her', ',', 'now', 'she', \"'s\", 'jockin', \"'\", 'Jay', 'I', 'ai', \"n't\", 'lyin', \"'\", ',', 'girls', 'be', 'cryin', \"'\", 'cos', 'I', \"'m\", 'on', 'TV', 'They', 'even', 'bother', 'my', 'poor', 'father', 'cos', 'he', \"'s\", 'down', 'with', 'me', 'It', \"'s\", 'Tricky', 'to', 'rock', 'a', 'rhyme', ',', 'to', 'rock', 'a', 'rhyme', 'that', \"'s\", 'right', 'on', 'time', 'It', \"'s\", 'Tricky', '...', '(', 'How', 'is', 'it', '?', ')', 'Tricky', '(', 'Tricky', ')', 'Tricky', '(', 'Tricky', ')', 'It', \"'s\", 'Tricky', 'to', 'rock', 'a', 'rhyme', ',', 'to', 'rock', 'a', 'rhyme', 'that', \"'s\", 'right', 'on', 'time', 'It', \"'s\", 'Tricky', '...', 'Tr-tr-tr-tr-tr-tricky', '(', 'Tr-Tr-Tr-Tricky', ')', 'Tr-tr-tr', '...', 'We', 'are', 'not', 'thugs', '(', 'we', 'do', \"n't\", 'use', 'drugs', ')', 'but', 'you', 'assume', '(', 'on', 'your', 'own', ')', 'They', 'offer', 'coke', '(', 'and', 'lots', 'of', 'dope', ')', 'but', 'we', 'just', 'leave', 'it', 'alone', 'It', \"'s\", 'like', 'that', \"y'all\", '(', \"y'all\", ')', ',', 'but', 'we', 'do', \"n't\", 'quit', 'You', 'keep', 'on', '(', 'rock', '!', ')', 'shock', '!', 'Cos', 'this', 'is', 'it', '...']\n"
     ]
    }
   ],
   "source": [
    "print(hip_hop_songs_tokens_for_stemming[2])"
   ]
  },
  {
   "cell_type": "code",
   "execution_count": 50,
   "id": "eb9bfd80",
   "metadata": {},
   "outputs": [
    {
     "name": "stdout",
     "output_type": "stream",
     "text": [
      "['this', 'speech', 'is', 'my', 'recital', 'i', 'think', 'it', 's', 'very', 'vital', 'to', 'rock', 'a', 'rhyme', 'that', 's', 'right', 'on', 'time', 'it', 's', 'tricky', 'is', 'the', 'title', 'here', 'we', 'go', 'it', 's', 'tricky', 'to', 'rock', 'a', 'rhyme', 'to', 'rock', 'a', 'rhyme', 'that', 's', 'right', 'on', 'time', 'it', 's', 'tricky', 'it', 's', 'tricky', 'tricky', 'tricky', 'tricky', 'it', 's', 'tricky', 'to', 'rock', 'a', 'rhyme', 'to', 'rock', 'a', 'rhyme', 'that', 's', 'right', 'on', 'time', 'it', 's', 'tricky', 'tr-tr-tr-tricky', 'tricky', 'trrrrrrrrrrricky', 'i', 'met', 'this', 'little', 'girlie', 'her', 'hair', 'was', 'kinda', 'curly', 'went', 'to', 'her', 'house', 'and', 'bust', 'her', 'out', 'i', 'had', 'to', 'leave', 'real', 'early', 'these', 'girls', 'are', 'really', 'sleazy', 'all', 'they', 'just', 'say', 'is', 'please', 'me', 'or', 'spend', 'some', 'time', 'and', 'rock', 'a', 'rhyme', 'i', 'said', 'it', 's', 'not', 'that', 'easy', 'it', 's', 'tricky', 'to', 'rock', 'a', 'rhyme', 'to', 'rock', 'a', 'rhyme', 'that', 's', 'right', 'on', 'time', 'it', 's', 'tricky', 'how', 'is', 'it', 'd', 'it', 's', 'tricky', 'tricky', 'tricky', 'trrrrrricky', 'it', 's', 'tricky', 'to', 'rock', 'a', 'rhyme', 'to', 'rock', 'a', 'rhyme', 'that', 's', 'right', 'on', 'time', 'it', 's', 'tricky', 'tricky', 'tricky', 'tricky', 'in', 'new', 'york', 'the', 'people', 'talk', 'and', 'try', 'to', 'make', 'us', 'rhyme', 'they', 'really', 'hawk', 'but', 'we', 'just', 'walk', 'because', 'we', 'have', 'no', 'time', 'and', 'in', 'the', 'city', 'it', 's', 'a', 'pity', 'cos', 'we', 'just', 'ca', 'nt', 'hide', 'tinted', 'windows', 'do', 'nt', 'mean', 'nothin', 'they', 'know', 'who', 's', 'inside', 'it', 's', 'tricky', 'to', 'rock', 'a', 'rhyme', 'to', 'rock', 'a', 'rhyme', 'that', 's', 'right', 'on', 'time', 'it', 's', 'tricky', 'how', 'is', 'it', 'd', 'tricky', 'tricky', 'tricky', 'tricky', 'it', 's', 'tricky', 'to', 'rock', 'a', 'rhyme', 'to', 'rock', 'a', 'rhyme', 'that', 's', 'right', 'on', 'time', 'it', 's', 'tricky', 'tricky', 'tricky', 'tricky', 'tricky', 'huh', 'when', 'i', 'wake', 'up', 'people', 'take', 'up', 'mostly', 'all', 'of', 'my', 'time', 'i', 'm', 'not', 'singin', 'phone', 'keep', 'ringin', 'cos', 'i', 'make', 'up', 'a', 'rhyme', 'i', 'm', 'not', 'braggin', 'people', 'naggin', 'cos', 'they', 'think', 'i', 'm', 'a', 'star', 'always', 'tearin', 'what', 'i', 'm', 'wearin', 'i', 'think', 'they', 're', 'goin', 'too', 'far', 'a', 'girl', 'named', 'carol', 'follows', 'daryll', 'every', 'gig', 'we', 'play', 'then', 'd', 'dissed', 'her', 'and', 'dismissed', 'her', 'now', 'she', 's', 'jockin', 'jay', 'i', 'ai', 'nt', 'lyin', 'girls', 'be', 'cryin', 'cos', 'i', 'm', 'on', 'tv', 'they', 'even', 'bother', 'my', 'poor', 'father', 'cos', 'he', 's', 'down', 'with', 'me', 'it', 's', 'tricky', 'to', 'rock', 'a', 'rhyme', 'to', 'rock', 'a', 'rhyme', 'that', 's', 'right', 'on', 'time', 'it', 's', 'tricky', 'how', 'is', 'it', 'tricky', 'tricky', 'tricky', 'tricky', 'it', 's', 'tricky', 'to', 'rock', 'a', 'rhyme', 'to', 'rock', 'a', 'rhyme', 'that', 's', 'right', 'on', 'time', 'it', 's', 'tricky', 'tr-tr-tr-tr-tr-tricky', 'tr-tr-tr-tricky', 'tr-tr-tr', 'we', 'are', 'not', 'thugs', 'we', 'do', 'nt', 'use', 'drugs', 'but', 'you', 'assume', 'on', 'your', 'own', 'they', 'offer', 'coke', 'and', 'lots', 'of', 'dope', 'but', 'we', 'just', 'leave', 'it', 'alone', 'it', 's', 'like', 'that', 'yall', 'yall', 'but', 'we', 'do', 'nt', 'quit', 'you', 'keep', 'on', 'rock', 'shock', 'cos', 'this', 'is', 'it']\n"
     ]
    }
   ],
   "source": [
    "print(preprocessed_hip_hop_songs_tokens_for_stemming[2])"
   ]
  },
  {
   "cell_type": "code",
   "execution_count": 51,
   "id": "6c6e7510",
   "metadata": {},
   "outputs": [
    {
     "name": "stdout",
     "output_type": "stream",
     "text": [
      "['speech', 'recital', 'think', 'vital', 'rock', 'rhyme', 'right', 'time', 'tricky', 'title', 'go', 'tricky', 'rock', 'rhyme', 'rock', 'rhyme', 'right', 'time', 'tricky', 'tricky', 'tricky', 'tricky', 'tricky', 'tricky', 'rock', 'rhyme', 'rock', 'rhyme', 'right', 'time', 'tricky', 'tr-tr-tr-tricky', 'tricky', 'trrrrrrrrrrricky', 'met', 'little', 'girlie', 'hair', 'kinda', 'curly', 'went', 'house', 'bust', 'leave', 'real', 'early', 'girls', 'really', 'sleazy', 'say', 'please', 'spend', 'time', 'rock', 'rhyme', 'said', 'easy', 'tricky', 'rock', 'rhyme', 'rock', 'rhyme', 'right', 'time', 'tricky', 'tricky', 'tricky', 'tricky', 'trrrrrricky', 'tricky', 'rock', 'rhyme', 'rock', 'rhyme', 'right', 'time', 'tricky', 'tricky', 'tricky', 'tricky', 'new', 'york', 'people', 'talk', 'try', 'make', 'us', 'rhyme', 'really', 'hawk', 'walk', 'time', 'city', 'pity', 'cos', 'ca', 'nt', 'hide', 'tinted', 'windows', 'nt', 'mean', 'nothin', 'know', 'inside', 'tricky', 'rock', 'rhyme', 'rock', 'rhyme', 'right', 'time', 'tricky', 'tricky', 'tricky', 'tricky', 'tricky', 'tricky', 'rock', 'rhyme', 'rock', 'rhyme', 'right', 'time', 'tricky', 'tricky', 'tricky', 'tricky', 'tricky', 'huh', 'wake', 'people', 'take', 'mostly', 'time', 'singin', 'phone', 'keep', 'ringin', 'cos', 'make', 'rhyme', 'braggin', 'people', 'naggin', 'cos', 'think', 'star', 'always', 'tearin', 'wearin', 'think', 'goin', 'far', 'girl', 'named', 'carol', 'follows', 'daryll', 'every', 'gig', 'play', 'dissed', 'dismissed', 'jockin', 'jay', 'ai', 'nt', 'lyin', 'girls', 'cryin', 'cos', 'tv', 'even', 'bother', 'poor', 'father', 'cos', 'tricky', 'rock', 'rhyme', 'rock', 'rhyme', 'right', 'time', 'tricky', 'tricky', 'tricky', 'tricky', 'tricky', 'tricky', 'rock', 'rhyme', 'rock', 'rhyme', 'right', 'time', 'tricky', 'tr-tr-tr-tr-tr-tricky', 'tr-tr-tr-tricky', 'tr-tr-tr', 'thugs', 'nt', 'use', 'drugs', 'assume', 'offer', 'coke', 'lots', 'dope', 'leave', 'alone', 'like', 'yall', 'yall', 'nt', 'quit', 'keep', 'rock', 'shock', 'cos']\n"
     ]
    }
   ],
   "source": [
    "print(filtered_hip_hop_songs_tokens_for_stemming[2])"
   ]
  },
  {
   "cell_type": "code",
   "execution_count": 52,
   "id": "e7f07433",
   "metadata": {},
   "outputs": [
    {
     "name": "stdout",
     "output_type": "stream",
     "text": [
      "['speech', 'recit', 'think', 'vit', 'rock', 'rhym', 'right', 'tim', 'tricky', 'titl', 'go', 'tricky', 'rock', 'rhym', 'rock', 'rhym', 'right', 'tim', 'tricky', 'tricky', 'tricky', 'tricky', 'tricky', 'tricky', 'rock', 'rhym', 'rock', 'rhym', 'right', 'tim', 'tricky', 'tr-tr-tr-tricky', 'tricky', 'trrrrrrrrrrricky', 'met', 'littl', 'gir', 'hair', 'kind', 'cur', 'went', 'hous', 'bust', 'leav', 'real', 'ear', 'girl', 'real', 'sleazy', 'say', 'pleas', 'spend', 'tim', 'rock', 'rhym', 'said', 'easy', 'tricky', 'rock', 'rhym', 'rock', 'rhym', 'right', 'tim', 'tricky', 'tricky', 'tricky', 'tricky', 'trrrrrricky', 'tricky', 'rock', 'rhym', 'rock', 'rhym', 'right', 'tim', 'tricky', 'tricky', 'tricky', 'tricky', 'new', 'york', 'peopl', 'talk', 'try', 'mak', 'us', 'rhym', 'real', 'hawk', 'walk', 'tim', 'city', 'pity', 'cos', 'ca', 'nt', 'hid', 'tint', 'window', 'nt', 'mean', 'nothin', 'know', 'insid', 'tricky', 'rock', 'rhym', 'rock', 'rhym', 'right', 'tim', 'tricky', 'tricky', 'tricky', 'tricky', 'tricky', 'tricky', 'rock', 'rhym', 'rock', 'rhym', 'right', 'tim', 'tricky', 'tricky', 'tricky', 'tricky', 'tricky', 'huh', 'wak', 'peopl', 'tak', 'most', 'tim', 'singin', 'phon', 'keep', 'ringin', 'cos', 'mak', 'rhym', 'braggin', 'peopl', 'naggin', 'cos', 'think', 'star', 'alway', 'tearin', 'wearin', 'think', 'goin', 'far', 'girl', 'nam', 'carol', 'follow', 'daryl', 'every', 'gig', 'play', 'diss', 'dismiss', 'jockin', 'jay', 'ai', 'nt', 'lyin', 'girl', 'cryin', 'cos', 'tv', 'ev', 'both', 'poor', 'fath', 'cos', 'tricky', 'rock', 'rhym', 'rock', 'rhym', 'right', 'tim', 'tricky', 'tricky', 'tricky', 'tricky', 'tricky', 'tricky', 'rock', 'rhym', 'rock', 'rhym', 'right', 'tim', 'tricky', 'tr-tr-tr-tr-tr-tricky', 'tr-tr-tr-tricky', 'tr-tr-tr', 'thug', 'nt', 'us', 'drug', 'assum', 'off', 'cok', 'lot', 'dop', 'leav', 'alon', 'lik', 'yal', 'yal', 'nt', 'quit', 'keep', 'rock', 'shock', 'cos']\n"
     ]
    }
   ],
   "source": [
    "print(hip_hop_songs_lancaster_stems[2])"
   ]
  },
  {
   "cell_type": "code",
   "execution_count": 53,
   "id": "edf7d709",
   "metadata": {},
   "outputs": [
    {
     "name": "stdout",
     "output_type": "stream",
     "text": [
      "['speech', 'recit', 'think', 'vital', 'rock', 'rhyme', 'right', 'time', 'tricki', 'titl', 'go', 'tricki', 'rock', 'rhyme', 'rock', 'rhyme', 'right', 'time', 'tricki', 'tricki', 'tricki', 'tricki', 'tricki', 'tricki', 'rock', 'rhyme', 'rock', 'rhyme', 'right', 'time', 'tricki', 'tr-tr-tr-tricki', 'tricki', 'trrrrrrrrrrricki', 'met', 'littl', 'girli', 'hair', 'kinda', 'curli', 'went', 'hous', 'bust', 'leav', 'real', 'earli', 'girl', 'realli', 'sleazi', 'say', 'pleas', 'spend', 'time', 'rock', 'rhyme', 'said', 'easi', 'tricki', 'rock', 'rhyme', 'rock', 'rhyme', 'right', 'time', 'tricki', 'tricki', 'tricki', 'tricki', 'trrrrrricki', 'tricki', 'rock', 'rhyme', 'rock', 'rhyme', 'right', 'time', 'tricki', 'tricki', 'tricki', 'tricki', 'new', 'york', 'peopl', 'talk', 'tri', 'make', 'us', 'rhyme', 'realli', 'hawk', 'walk', 'time', 'citi', 'piti', 'co', 'ca', 'nt', 'hide', 'tint', 'window', 'nt', 'mean', 'nothin', 'know', 'insid', 'tricki', 'rock', 'rhyme', 'rock', 'rhyme', 'right', 'time', 'tricki', 'tricki', 'tricki', 'tricki', 'tricki', 'tricki', 'rock', 'rhyme', 'rock', 'rhyme', 'right', 'time', 'tricki', 'tricki', 'tricki', 'tricki', 'tricki', 'huh', 'wake', 'peopl', 'take', 'mostli', 'time', 'singin', 'phone', 'keep', 'ringin', 'co', 'make', 'rhyme', 'braggin', 'peopl', 'naggin', 'co', 'think', 'star', 'alway', 'tearin', 'wearin', 'think', 'goin', 'far', 'girl', 'name', 'carol', 'follow', 'daryl', 'everi', 'gig', 'play', 'diss', 'dismiss', 'jockin', 'jay', 'ai', 'nt', 'lyin', 'girl', 'cryin', 'co', 'tv', 'even', 'bother', 'poor', 'father', 'co', 'tricki', 'rock', 'rhyme', 'rock', 'rhyme', 'right', 'time', 'tricki', 'tricki', 'tricki', 'tricki', 'tricki', 'tricki', 'rock', 'rhyme', 'rock', 'rhyme', 'right', 'time', 'tricki', 'tr-tr-tr-tr-tr-tricki', 'tr-tr-tr-tricki', 'tr-tr-tr', 'thug', 'nt', 'use', 'drug', 'assum', 'offer', 'coke', 'lot', 'dope', 'leav', 'alon', 'like', 'yall', 'yall', 'nt', 'quit', 'keep', 'rock', 'shock', 'co']\n"
     ]
    }
   ],
   "source": [
    "print(hip_hop_songs_porter_stems[2])"
   ]
  },
  {
   "cell_type": "code",
   "execution_count": 54,
   "id": "99403f30",
   "metadata": {},
   "outputs": [
    {
     "name": "stdout",
     "output_type": "stream",
     "text": [
      "Pop Songs' Lexical Diversities:\n",
      "[0.39100346020761245, 0.278372591006424, 0.23046875, 0.39166666666666666, 0.34890965732087226, 0.3569023569023569, 0.3112033195020747]\n"
     ]
    }
   ],
   "source": [
    "print(\"Pop Songs' Lexical Diversities:\")\n",
    "print(pop_songs_lexical_diversities)"
   ]
  },
  {
   "cell_type": "code",
   "execution_count": 55,
   "id": "f15362b3",
   "metadata": {},
   "outputs": [
    {
     "name": "stdout",
     "output_type": "stream",
     "text": [
      "Average Lexical Diversity of Pop Songs:\n",
      "0.32978954308657243\n"
     ]
    }
   ],
   "source": [
    "print(\"Average Lexical Diversity of Pop Songs:\")\n",
    "print(mean(pop_songs_lexical_diversities))"
   ]
  },
  {
   "cell_type": "code",
   "execution_count": 56,
   "id": "d0900285",
   "metadata": {},
   "outputs": [
    {
     "name": "stdout",
     "output_type": "stream",
     "text": [
      "Hip Hop Songs' Lexical Diversities:\n",
      "[0.4649122807017544, 0.3471307619943556, 0.3764705882352941, 0.37388724035608306, 0.3157894736842105, 0.22688524590163933, 0.4258804258804259]\n"
     ]
    }
   ],
   "source": [
    "print(\"Hip Hop Songs' Lexical Diversities:\")\n",
    "print(hip_hop_songs_lexical_diversities)"
   ]
  },
  {
   "cell_type": "code",
   "execution_count": 57,
   "id": "937eb157",
   "metadata": {},
   "outputs": [
    {
     "name": "stdout",
     "output_type": "stream",
     "text": [
      "Average Lexical Diversity of Hip Hop Songs:\n",
      "0.36156514525053757\n"
     ]
    }
   ],
   "source": [
    "print(\"Average Lexical Diversity of Hip Hop Songs:\")\n",
    "print(mean(hip_hop_songs_lexical_diversities))"
   ]
  },
  {
   "cell_type": "code",
   "execution_count": 58,
   "id": "1e922bd0",
   "metadata": {},
   "outputs": [
    {
     "name": "stdout",
     "output_type": "stream",
     "text": [
      "Number of Words in Pop Songs:\n",
      "[289, 467, 256, 240, 321, 297, 241]\n"
     ]
    }
   ],
   "source": [
    "print(\"Number of Words in Pop Songs:\")\n",
    "print(list(map(len, pop_songs_tokens)))"
   ]
  },
  {
   "cell_type": "code",
   "execution_count": 59,
   "id": "e0e6ab62",
   "metadata": {},
   "outputs": [
    {
     "name": "stdout",
     "output_type": "stream",
     "text": [
      "Average Number of Words in Pop Songs:\n",
      "302\n"
     ]
    }
   ],
   "source": [
    "print(\"Average Number of Words in Pop Songs:\")\n",
    "print(round(mean(list(map(len, pop_songs_tokens)))))"
   ]
  },
  {
   "cell_type": "code",
   "execution_count": 60,
   "id": "2713393a",
   "metadata": {},
   "outputs": [
    {
     "name": "stdout",
     "output_type": "stream",
     "text": [
      "Number of Words in Hip Hop Songs:\n",
      "[684, 1063, 425, 674, 342, 3050, 1221]\n"
     ]
    }
   ],
   "source": [
    "print(\"Number of Words in Hip Hop Songs:\")\n",
    "print(list(map(len, hip_hop_songs_tokens)))"
   ]
  },
  {
   "cell_type": "code",
   "execution_count": 61,
   "id": "6429240f",
   "metadata": {},
   "outputs": [
    {
     "name": "stdout",
     "output_type": "stream",
     "text": [
      "Average Number of Words in Hip Hop Songs:\n",
      "1066\n"
     ]
    }
   ],
   "source": [
    "print(\"Average Number of Words in Hip Hop Songs:\")\n",
    "print(round(mean(list(map(len, hip_hop_songs_tokens)))))"
   ]
  },
  {
   "cell_type": "code",
   "execution_count": 62,
   "id": "e467ad9a",
   "metadata": {},
   "outputs": [
    {
     "name": "stdout",
     "output_type": "stream",
     "text": [
      "Average Number of Words in Hip Hop Songs (excluding the outlier \"Rapper's Delight\"):\n",
      "735\n"
     ]
    }
   ],
   "source": [
    "print(\"Average Number of Words in Hip Hop Songs (excluding the outlier \\\"Rapper's Delight\\\"):\")\n",
    "print(round(mean([684, 1063, 425, 674, 342, 1220])))"
   ]
  },
  {
   "cell_type": "code",
   "execution_count": 63,
   "id": "6da469cb",
   "metadata": {},
   "outputs": [
    {
     "name": "stdout",
     "output_type": "stream",
     "text": [
      "10 Most Frequent Words in True Colors by Cyndi Lauper:\n",
      "[('you', 17), ('true', 16), ('colors', 16), ('i', 11), ('your', 11), ('and', 9), ('be', 8), ('see', 7), ('dont', 6), ('to', 5)]\n"
     ]
    },
    {
     "data": {
      "image/png": "[encoded data removed]",
      "text/plain": [
       "<Figure size 432x288 with 1 Axes>"
      ]
     },
     "metadata": {
      "needs_background": "light"
     },
     "output_type": "display_data"
    },
    {
     "data": {
      "text/plain": [
       "<AxesSubplot:xlabel='Samples', ylabel='Counts'>"
      ]
     },
     "execution_count": 63,
     "metadata": {},
     "output_type": "execute_result"
    }
   ],
   "source": [
    "print(\"10 Most Frequent Words in True Colors by Cyndi Lauper:\")\n",
    "print(pop_songs_word_freq_dists[6].most_common(10))\n",
    "pop_songs_word_freq_dists[6].plot(10)"
   ]
  },
  {
   "cell_type": "code",
   "execution_count": 88,
   "id": "773e7d01",
   "metadata": {},
   "outputs": [
    {
     "name": "stdout",
     "output_type": "stream",
     "text": [
      "10 Most Frequent Non–Stop Words in True Colors by Cyndi Lauper:\n",
      "[('true', 16), ('colors', 16), ('see', 7), ('dont', 6), ('show', 5), ('shining', 4), ('thats', 4), ('love', 4), ('afraid', 4), ('let', 4)]\n"
     ]
    },
    {
     "data": {
      "image/png": "[encoded data removed]",
      "text/plain": [
       "<Figure size 432x288 with 1 Axes>"
      ]
     },
     "metadata": {
      "needs_background": "light"
     },
     "output_type": "display_data"
    },
    {
     "data": {
      "text/plain": [
       "<AxesSubplot:xlabel='Samples', ylabel='Counts'>"
      ]
     },
     "execution_count": 88,
     "metadata": {},
     "output_type": "execute_result"
    }
   ],
   "source": [
    "print(\"10 Most Frequent Non–Stop Words in True Colors by Cyndi Lauper:\")\n",
    "print(filtered_pop_songs_word_freq_dists[6].most_common(10))\n",
    "filtered_pop_songs_word_freq_dists[6].plot(10)"
   ]
  },
  {
   "cell_type": "code",
   "execution_count": 89,
   "id": "3ab916ab",
   "metadata": {},
   "outputs": [
    {
     "name": "stdout",
     "output_type": "stream",
     "text": [
      "10 Most Frequent Non–Stop Word Lancaster Stems in True Colors by Cyndi Lauper:\n",
      "[('tru', 16), ('col', 16), ('nt', 7), ('see', 7), ('show', 5), ('shin', 4), ('lov', 4), ('afraid', 4), ('let', 4), ('tak', 3)]\n"
     ]
    },
    {
     "data": {
      "image/png": "[encoded data removed]",
      "text/plain": [
       "<Figure size 432x288 with 1 Axes>"
      ]
     },
     "metadata": {
      "needs_background": "light"
     },
     "output_type": "display_data"
    },
    {
     "data": {
      "text/plain": [
       "<AxesSubplot:xlabel='Samples', ylabel='Counts'>"
      ]
     },
     "execution_count": 89,
     "metadata": {},
     "output_type": "execute_result"
    }
   ],
   "source": [
    "print(\"10 Most Frequent Non–Stop Word Lancaster Stems in True Colors by Cyndi Lauper:\")\n",
    "print(pop_songs_lancaster_stems_freq_dists[6].most_common(10))\n",
    "pop_songs_lancaster_stems_freq_dists[6].plot(10)"
   ]
  },
  {
   "cell_type": "code",
   "execution_count": 66,
   "id": "91820ce4",
   "metadata": {},
   "outputs": [
    {
     "name": "stdout",
     "output_type": "stream",
     "text": [
      "10 Most Frequent Non–Stop Word Porter Stems in True Colors by Cyndi Lauper:\n",
      "[('true', 16), ('color', 16), ('nt', 7), ('see', 7), ('show', 5), ('shine', 4), ('love', 4), ('afraid', 4), ('let', 4), ('world', 3)]\n"
     ]
    },
    {
     "data": {
      "image/png": "[encoded data removed]",
      "text/plain": [
       "<Figure size 432x288 with 1 Axes>"
      ]
     },
     "metadata": {
      "needs_background": "light"
     },
     "output_type": "display_data"
    },
    {
     "data": {
      "text/plain": [
       "<AxesSubplot:xlabel='Samples', ylabel='Counts'>"
      ]
     },
     "execution_count": 66,
     "metadata": {},
     "output_type": "execute_result"
    }
   ],
   "source": [
    "print(\"10 Most Frequent Non–Stop Word Porter Stems in True Colors by Cyndi Lauper:\")\n",
    "print(pop_songs_porter_stems_freq_dists[6].most_common(10))\n",
    "pop_songs_porter_stems_freq_dists[6].plot(10)"
   ]
  },
  {
   "cell_type": "code",
   "execution_count": 67,
   "id": "e4c6c5ef",
   "metadata": {},
   "outputs": [
    {
     "name": "stdout",
     "output_type": "stream",
     "text": [
      "10 Most Frequent Words in It's Tricky by Run-DMC:\n",
      "[('tricky', 40), ('its', 23), ('a', 22), ('to', 20), ('rhyme', 20), ('rock', 19), ('on', 12), ('time', 12), ('thats', 9), ('right', 9)]\n"
     ]
    },
    {
     "data": {
      "image/png": "[encoded data removed]",
      "text/plain": [
       "<Figure size 432x288 with 1 Axes>"
      ]
     },
     "metadata": {
      "needs_background": "light"
     },
     "output_type": "display_data"
    },
    {
     "data": {
      "text/plain": [
       "<AxesSubplot:xlabel='Samples', ylabel='Counts'>"
      ]
     },
     "execution_count": 67,
     "metadata": {},
     "output_type": "execute_result"
    }
   ],
   "source": [
    "print(\"10 Most Frequent Words in It's Tricky by Run-DMC:\")\n",
    "print(hip_hop_songs_word_freq_dists[2].most_common(10))\n",
    "hip_hop_songs_word_freq_dists[2].plot(10)"
   ]
  },
  {
   "cell_type": "code",
   "execution_count": 107,
   "id": "2945b4bf",
   "metadata": {},
   "outputs": [
    {
     "name": "stdout",
     "output_type": "stream",
     "text": [
      "10 Most Frequent Non–Stop Words in It's Tricky by Run-DMC:\n",
      "[('tricky', 40), ('rhyme', 20), ('rock', 19), ('time', 12), ('thats', 9), ('right', 9), ('cos', 6), ('im', 5), ('think', 3), ('people', 3)]\n"
     ]
    },
    {
     "data": {
      "image/png": "[encoded data removed]",
      "text/plain": [
       "<Figure size 432x288 with 1 Axes>"
      ]
     },
     "metadata": {
      "needs_background": "light"
     },
     "output_type": "display_data"
    },
    {
     "data": {
      "text/plain": [
       "<AxesSubplot:xlabel='Samples', ylabel='Counts'>"
      ]
     },
     "execution_count": 107,
     "metadata": {},
     "output_type": "execute_result"
    }
   ],
   "source": [
    "print(\"10 Most Frequent Non–Stop Words in It's Tricky by Run-DMC:\")\n",
    "print(filtered_hip_hop_songs_word_freq_dists[2].most_common(10))\n",
    "filtered_hip_hop_songs_word_freq_dists[2].plot(10)"
   ]
  },
  {
   "cell_type": "code",
   "execution_count": 108,
   "id": "99201cf5",
   "metadata": {},
   "outputs": [
    {
     "name": "stdout",
     "output_type": "stream",
     "text": [
      "10 Most Frequent Non–Stop Word Lancaster Stems in It's Tricky by Run-DMC:\n",
      "[('tricky', 40), ('rhym', 20), ('rock', 19), ('tim', 12), ('right', 9), ('cos', 6), ('nt', 5), ('think', 3), ('real', 3), ('girl', 3)]\n"
     ]
    },
    {
     "data": {
      "image/png": "[encoded data removed]",
      "text/plain": [
       "<Figure size 432x288 with 1 Axes>"
      ]
     },
     "metadata": {
      "needs_background": "light"
     },
     "output_type": "display_data"
    },
    {
     "data": {
      "text/plain": [
       "<AxesSubplot:xlabel='Samples', ylabel='Counts'>"
      ]
     },
     "execution_count": 108,
     "metadata": {},
     "output_type": "execute_result"
    }
   ],
   "source": [
    "print(\"10 Most Frequent Non–Stop Word Lancaster Stems in It's Tricky by Run-DMC:\")\n",
    "print(hip_hop_songs_lancaster_stems_freq_dists[2].most_common(10))\n",
    "hip_hop_songs_lancaster_stems_freq_dists[2].plot(10)"
   ]
  },
  {
   "cell_type": "code",
   "execution_count": 70,
   "id": "b9264aca",
   "metadata": {},
   "outputs": [
    {
     "name": "stdout",
     "output_type": "stream",
     "text": [
      "10 Most Frequent Non–Stop Word Porter Stems in It's Tricky by Run-DMC:\n",
      "[('tricki', 40), ('rhyme', 20), ('rock', 19), ('time', 12), ('right', 9), ('co', 6), ('nt', 5), ('think', 3), ('girl', 3), ('peopl', 3)]\n"
     ]
    },
    {
     "data": {
      "image/png": "[encoded data removed]",
      "text/plain": [
       "<Figure size 432x288 with 1 Axes>"
      ]
     },
     "metadata": {
      "needs_background": "light"
     },
     "output_type": "display_data"
    },
    {
     "data": {
      "text/plain": [
       "<AxesSubplot:xlabel='Samples', ylabel='Counts'>"
      ]
     },
     "execution_count": 70,
     "metadata": {},
     "output_type": "execute_result"
    }
   ],
   "source": [
    "print(\"10 Most Frequent Non–Stop Word Porter Stems in It's Tricky by Run-DMC:\")\n",
    "print(hip_hop_songs_porter_stems_freq_dists[2].most_common(10))\n",
    "hip_hop_songs_porter_stems_freq_dists[2].plot(10)"
   ]
  }
 ],
 "metadata": {
  "kernelspec": {
   "display_name": "Python 3 (ipykernel)",
   "language": "python",
   "name": "python3"
  },
  "language_info": {
   "codemirror_mode": {
    "name": "ipython",
    "version": 3
   },
   "file_extension": ".py",
   "mimetype": "text/x-python",
   "name": "python",
   "nbconvert_exporter": "python",
   "pygments_lexer": "ipython3",
   "version": "3.9.12"
  }
 },
 "nbformat": 4,
 "nbformat_minor": 5
}
